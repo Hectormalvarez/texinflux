{
 "cells": [
  {
   "cell_type": "code",
   "execution_count": 29,
   "metadata": {},
   "outputs": [],
   "source": [
    "from bs4 import BeautifulSoup\n",
    "import os\n",
    "import pandas as pd\n",
    "import requests\n",
    "import re"
   ]
  },
  {
   "cell_type": "code",
   "execution_count": 30,
   "metadata": {},
   "outputs": [],
   "source": [
    "state_2_state_URL = \"https://www.census.gov/data/tables/time-series/demo/geographic-mobility/state-to-state-migration.html\"\n",
    "req = requests.get(state_2_state_URL)\n",
    "soup = BeautifulSoup(req.text, 'html.parser')"
   ]
  },
  {
   "cell_type": "code",
   "execution_count": 36,
   "metadata": {},
   "outputs": [],
   "source": [
    "def modify_url(url):\n",
    "    if url.startswith(\"//\"):\n",
    "        return \"https:\" + url\n",
    "    else:\n",
    "        return url\n",
    "\n",
    "def get_file_names(file_urls):\n",
    "    file_names = []\n",
    "    for file_url in file_urls:\n",
    "        filename = file_url.split(\"/\")[-1]  # Get the filename from the URL\n",
    "        file_list.append(filename)\n",
    "    return file_names"
   ]
  },
  {
   "cell_type": "code",
   "execution_count": 32,
   "metadata": {},
   "outputs": [],
   "source": [
    "state_2_state_file_urls = []\n",
    "# get <a> tags with \".xls\" extension links\n",
    "a_tags = soup.find_all('a', href=re.compile('.xls'))\n",
    "# get url for spreadsheet download\n",
    "for a_tag in a_tags:\n",
    "    state_2_state_file_urls.append(modify_url(a_tag['href']))\n"
   ]
  },
  {
   "cell_type": "code",
   "execution_count": 33,
   "metadata": {},
   "outputs": [
    {
     "name": "stdout",
     "output_type": "stream",
     "text": [
      "File 'State_to_State_Migrations_Table_2021.xls' already exists.\n",
      "File 'State_to_State_Migrations_Table_2019.xls' already exists.\n",
      "File 'State_to_State_Migrations_Table_2018.xls' already exists.\n",
      "File 'State_to_State_Migrations_Table_2017.xls' already exists.\n",
      "File 'State_to_State_Migrations_Table_2016.xls' already exists.\n",
      "File 'State_to_State_Migrations_Table_2015.xls' already exists.\n",
      "File 'State_to_State_Migrations_Table_2014.xls' already exists.\n",
      "File 'state_to_state_migrations_table_2013.xls' already exists.\n",
      "File 'state_to_state_migrations_table_2012.xls' already exists.\n",
      "File 'state_to_state_migrations_table_2011.xls' already exists.\n",
      "File 'state_to_state_migrations_table_2010.xls' already exists.\n",
      "File 'state_to_state_migrations_table_2009.xls' already exists.\n",
      "File 'state_to_state_migrations_table_2007_2009.xls' already exists.\n",
      "File 'state_to_state_migrations_table_2005_2009.xls' already exists.\n",
      "File 'state_to_state_migrations_table_2008.xls' already exists.\n",
      "File 'state_to_state_migrations_table_2006_2008.xls' already exists.\n",
      "File 'state_to_state_migrations_table_2007.xls' already exists.\n",
      "File 'state_to_state_migrations_table_2005_2007.xls' already exists.\n",
      "File 'state_to_state_migrations_table_2006.xls' already exists.\n",
      "File 'state_to_state_migrations_table_2005.xls' already exists.\n",
      "File 'state_migration_flows_tables.xls' already exists.\n"
     ]
    }
   ],
   "source": [
    "# Download the files\n",
    "for file_url in state_2_state_file_urls:\n",
    "    # check if file_url exists in current directory\n",
    "    response = requests.get(file_url)\n",
    "    # Get the filename from the URL\n",
    "    filename = file_url.split(\"/\")[-1]  \n",
    "    # Check if file exists\n",
    "    if os.path.isfile(filename):\n",
    "        print(f\"File '{filename}' already exists.\")\n",
    "        continue\n",
    "    \n",
    "    if response.status_code == 200:\n",
    "        with open(filename, 'wb') as f:\n",
    "            f.write(response.content)\n",
    "        print(f\"File '{filename}' downloaded successfully.\")\n",
    "    else:\n",
    "        print(f\"Failed to download file from URL: {file_url}\")"
   ]
  },
  {
   "cell_type": "code",
   "execution_count": 37,
   "metadata": {},
   "outputs": [
    {
     "name": "stdout",
     "output_type": "stream",
     "text": [
      "['State_to_State_Migrations_Table_2021.xls', 'State_to_State_Migrations_Table_2019.xls', 'State_to_State_Migrations_Table_2018.xls', 'State_to_State_Migrations_Table_2017.xls', 'State_to_State_Migrations_Table_2016.xls', 'State_to_State_Migrations_Table_2015.xls', 'State_to_State_Migrations_Table_2014.xls', 'state_to_state_migrations_table_2013.xls', 'state_to_state_migrations_table_2012.xls', 'state_to_state_migrations_table_2011.xls', 'state_to_state_migrations_table_2010.xls', 'state_to_state_migrations_table_2009.xls', 'state_to_state_migrations_table_2007_2009.xls', 'state_to_state_migrations_table_2005_2009.xls', 'state_to_state_migrations_table_2008.xls', 'state_to_state_migrations_table_2006_2008.xls', 'state_to_state_migrations_table_2007.xls', 'state_to_state_migrations_table_2005_2007.xls', 'state_to_state_migrations_table_2006.xls', 'state_to_state_migrations_table_2005.xls', 'state_migration_flows_tables.xls']\n"
     ]
    }
   ],
   "source": [
    "file_names_list = get_file_names(state_2_state_file_urls)\n",
    "print(file_names_list)"
   ]
  },
  {
   "cell_type": "code",
   "execution_count": 35,
   "metadata": {},
   "outputs": [],
   "source": [
    "# df = pd.read_excel(file_list[0])\n",
    "# df1 = pd.read_excel(file_list[1])\n",
    "# df2 = pd.read_excel(file_list[2])\n",
    "# df3 = pd.read_excel(file_list[3])\n",
    "# df4= pd.read_excel(file_list[4])"
   ]
  }
 ],
 "metadata": {
  "kernelspec": {
   "display_name": "txtraffic_env",
   "language": "python",
   "name": "python3"
  },
  "language_info": {
   "codemirror_mode": {
    "name": "ipython",
    "version": 3
   },
   "file_extension": ".py",
   "mimetype": "text/x-python",
   "name": "python",
   "nbconvert_exporter": "python",
   "pygments_lexer": "ipython3",
   "version": "3.11.1"
  },
  "orig_nbformat": 4
 },
 "nbformat": 4,
 "nbformat_minor": 2
}
