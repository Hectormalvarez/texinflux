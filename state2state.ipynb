{
 "cells": [
  {
   "cell_type": "code",
   "execution_count": null,
   "metadata": {},
   "outputs": [],
   "source": [
    "from bs4 import BeautifulSoup\n",
    "import os\n",
    "import pandas as pd\n",
    "import requests\n",
    "import re"
   ]
  },
  {
   "cell_type": "code",
   "execution_count": null,
   "metadata": {},
   "outputs": [],
   "source": [
    "STATE_2_STATE_URL = \"https://www.census.gov/data/tables/time-series/demo/geographic-mobility/state-to-state-migration.html\""
   ]
  },
  {
   "cell_type": "code",
   "execution_count": null,
   "metadata": {},
   "outputs": [],
   "source": [
    "# convert href urls to full urls\n",
    "def modify_url(url):\n",
    "    if url.startswith(\"//\"):\n",
    "        return \"https:\" + url\n",
    "    else:\n",
    "        return url\n",
    "\n",
    "\n",
    "# returns dictionary with years as keys and file names as values\n",
    "def get_file_by_year(file_urls):\n",
    "    years = {}\n",
    "    # Regular expression pattern to extract years (YYYY)\n",
    "    pattern = r\"\\d{4}\"\n",
    "    for file_url in file_urls:\n",
    "        filename = file_url.split(\"/\")[-1]  \n",
    "        # Use regex to find all matches\n",
    "        matches = re.findall(pattern, filename)\n",
    "        # If there are matches, save the filename with the year as key\n",
    "        if matches:\n",
    "            if len(matches) == 2:\n",
    "                years[f\"{matches[0]}_{matches[1]}\"] = filename\n",
    "            else:\n",
    "                years[f\"{matches[0]}\"] = filename\n",
    "        if not matches:\n",
    "            continue\n",
    "\n",
    "    return years\n",
    "\n",
    "# extracts urls with .xls extension from the given url\n",
    "def get_xls_file_urls(url):\n",
    "    res = requests.get(url)\n",
    "    soup = BeautifulSoup(res.text, 'html.parser')\n",
    "    state_2_state_file_urls = []\n",
    "    # get <a> tags with \".xls\" extension links\n",
    "    a_tags = soup.find_all('a', href=re.compile('.xls'))\n",
    "    # get url for spreadsheet download\n",
    "    for a_tag in a_tags:\n",
    "        state_2_state_file_urls.append(modify_url(a_tag['href']))\n",
    "    \n",
    "    return state_2_state_file_urls\n",
    "\n",
    "\n",
    "# Download files from list of urls\n",
    "def download_files(urls):\n",
    "    for file_url in urls:\n",
    "        # Get the filename from the URL\n",
    "        filename = file_url.split(\"/\")[-1]  \n",
    "        # Check if file exists\n",
    "        if os.path.isfile(filename):\n",
    "            print(f\"File '{filename}' already exists.\")\n",
    "            continue\n",
    "        \n",
    "        # download the file\n",
    "        response = requests.get(file_url)\n",
    "        if response.status_code == 200:\n",
    "            with open(filename, 'wb') as f:\n",
    "                f.write(response.content)\n",
    "            print(f\"File '{filename}' downloaded successfully.\")\n",
    "        else:\n",
    "            print(f\"Failed to download file from URL: {file_url}\")"
   ]
  },
  {
   "cell_type": "code",
   "execution_count": null,
   "metadata": {},
   "outputs": [],
   "source": [
    "spreadsheet_urls = get_xls_file_urls(STATE_2_STATE_URL)\n",
    "spreadsheets = get_file_by_year(spreadsheet_urls)"
   ]
  },
  {
   "cell_type": "code",
   "execution_count": null,
   "metadata": {},
   "outputs": [],
   "source": [
    "for spreadsheet in spreadsheet_urls:\n",
    "    print(spreadsheet)\n",
    "print(\"=\"*80)\n",
    "for spreadsheet, file in spreadsheets.items():\n",
    "    print(spreadsheet, file)"
   ]
  },
  {
   "cell_type": "code",
   "execution_count": null,
   "metadata": {},
   "outputs": [],
   "source": [
    "download_files(spreadsheet_urls)"
   ]
  }
 ],
 "metadata": {
  "kernelspec": {
   "display_name": "txtraffic_env",
   "language": "python",
   "name": "python3"
  },
  "language_info": {
   "codemirror_mode": {
    "name": "ipython",
    "version": 3
   },
   "file_extension": ".py",
   "mimetype": "text/x-python",
   "name": "python",
   "nbconvert_exporter": "python",
   "pygments_lexer": "ipython3",
   "version": "3.11.1"
  },
  "orig_nbformat": 4
 },
 "nbformat": 4,
 "nbformat_minor": 2
}
